{
  "nbformat": 4,
  "nbformat_minor": 0,
  "metadata": {
    "colab": {
      "name": "Churn_Modelling.ipynb",
      "provenance": [],
      "collapsed_sections": [],
      "authorship_tag": "ABX9TyNNhGtWXv9zxLd3M9iXi+r+",
      "include_colab_link": true
    },
    "kernelspec": {
      "name": "python3",
      "display_name": "Python 3"
    }
  },
  "cells": [
    {
      "cell_type": "markdown",
      "metadata": {
        "id": "view-in-github",
        "colab_type": "text"
      },
      "source": [
        "<a href=\"https://colab.research.google.com/github/amit17133129/An-Explanation-To-Artificial-Neural-Network/blob/main/Churn_Modelling.ipynb\" target=\"_parent\"><img src=\"https://colab.research.google.com/assets/colab-badge.svg\" alt=\"Open In Colab\"/></a>"
      ]
    },
    {
      "cell_type": "markdown",
      "metadata": {
        "id": "gt9hKtDimmmz"
      },
      "source": [
        "<h1><center>Explaination On Artificial Neural Netowrk</center></h1>\r\n",
        "<p align=\"center\">\r\n",
        "  <img src=\"https://github.com/amit17133129/codes/blob/master/Brain.gif?raw=true\" alt=\"Sublime's custom image\"/>\r\n",
        "</p>\r\n",
        "\r\n"
      ]
    },
    {
      "cell_type": "markdown",
      "metadata": {
        "id": "GShThPEomcwH"
      },
      "source": [
        "<center>An ANN is based on a collection of connected units or nodes called artificial neurons, which loosely model the neurons in a biological brain. Each connection, like the synapses in a biological brain, can transmit a signal to other neurons. An artificial neuron that receives a signal then processes it and can signal neurons connected to it. The \"signal\" at a connection is a real number, and the output of each neuron is computed by some non-linear function of the sum of its inputs. The connections are called edges. Neurons and edges typically have a weight that adjusts as learning proceeds. The weight increases or decreases the strength of the signal at a connection. Neurons may have a threshold such that a signal is sent only if the aggregate signal crosses that threshold. Typically, neurons are aggregated into layers. Different layers may perform different transformations on their inputs. Signals travel from the first layer (the input layer), to the last layer (the output layer), possibly after traversing the layers multiple times.</center>\r\n"
      ]
    },
    {
      "cell_type": "markdown",
      "metadata": {
        "id": "jI3GoO_ggoOr"
      },
      "source": [
        "## **Importing Pandas**"
      ]
    },
    {
      "cell_type": "markdown",
      "metadata": {
        "id": "2x5ifkoymvgR"
      },
      "source": [
        "<center>Pandas is a software library written for the Python programming language for data manipulation and analysis. In particular, it offers data structures and operations for manipulating numerical tables and time series.</center>\r\n"
      ]
    },
    {
      "cell_type": "code",
      "metadata": {
        "id": "BgK1b1ehmc_t"
      },
      "source": [
        "import pandas as pd"
      ],
      "execution_count": 1,
      "outputs": []
    },
    {
      "cell_type": "markdown",
      "metadata": {
        "id": "O4PuX8Wbg9ij"
      },
      "source": [
        "## **Importing Dataset**"
      ]
    },
    {
      "cell_type": "markdown",
      "metadata": {
        "id": "KS811L7Xm8bi"
      },
      "source": [
        "Here i have imported dataset of churn modelling in which you have features like 'RowNumber', 'CustomerId', 'Surname', 'CreditScore', 'Geography',\r\n",
        "       'Gender', 'Age', 'Tenure', 'Balance', 'NumOfProducts', 'HasCrCard',\r\n",
        "       'IsActiveMember', 'EstimatedSalary', 'Exited'. "
      ]
    },
    {
      "cell_type": "code",
      "metadata": {
        "colab": {
          "base_uri": "https://localhost:8080/",
          "height": 399
        },
        "id": "mobXuhMhm1h7",
        "outputId": "217bc603-540b-4541-f0e5-14b95775f78a"
      },
      "source": [
        "dataset = pd.read_csv(\"/content/Churn_Modelling.csv\")\r\n",
        "dataset"
      ],
      "execution_count": 2,
      "outputs": [
        {
          "output_type": "execute_result",
          "data": {
            "text/html": [
              "<div>\n",
              "<style scoped>\n",
              "    .dataframe tbody tr th:only-of-type {\n",
              "        vertical-align: middle;\n",
              "    }\n",
              "\n",
              "    .dataframe tbody tr th {\n",
              "        vertical-align: top;\n",
              "    }\n",
              "\n",
              "    .dataframe thead th {\n",
              "        text-align: right;\n",
              "    }\n",
              "</style>\n",
              "<table border=\"1\" class=\"dataframe\">\n",
              "  <thead>\n",
              "    <tr style=\"text-align: right;\">\n",
              "      <th></th>\n",
              "      <th>RowNumber</th>\n",
              "      <th>CustomerId</th>\n",
              "      <th>Surname</th>\n",
              "      <th>CreditScore</th>\n",
              "      <th>Geography</th>\n",
              "      <th>Gender</th>\n",
              "      <th>Age</th>\n",
              "      <th>Tenure</th>\n",
              "      <th>Balance</th>\n",
              "      <th>NumOfProducts</th>\n",
              "      <th>HasCrCard</th>\n",
              "      <th>IsActiveMember</th>\n",
              "      <th>EstimatedSalary</th>\n",
              "      <th>Exited</th>\n",
              "    </tr>\n",
              "  </thead>\n",
              "  <tbody>\n",
              "    <tr>\n",
              "      <th>0</th>\n",
              "      <td>1</td>\n",
              "      <td>15634602</td>\n",
              "      <td>Hargrave</td>\n",
              "      <td>619</td>\n",
              "      <td>France</td>\n",
              "      <td>Female</td>\n",
              "      <td>42</td>\n",
              "      <td>2</td>\n",
              "      <td>0.00</td>\n",
              "      <td>1</td>\n",
              "      <td>1</td>\n",
              "      <td>1</td>\n",
              "      <td>101348.88</td>\n",
              "      <td>1</td>\n",
              "    </tr>\n",
              "    <tr>\n",
              "      <th>1</th>\n",
              "      <td>2</td>\n",
              "      <td>15647311</td>\n",
              "      <td>Hill</td>\n",
              "      <td>608</td>\n",
              "      <td>Spain</td>\n",
              "      <td>Female</td>\n",
              "      <td>41</td>\n",
              "      <td>1</td>\n",
              "      <td>83807.86</td>\n",
              "      <td>1</td>\n",
              "      <td>0</td>\n",
              "      <td>1</td>\n",
              "      <td>112542.58</td>\n",
              "      <td>0</td>\n",
              "    </tr>\n",
              "    <tr>\n",
              "      <th>2</th>\n",
              "      <td>3</td>\n",
              "      <td>15619304</td>\n",
              "      <td>Onio</td>\n",
              "      <td>502</td>\n",
              "      <td>France</td>\n",
              "      <td>Female</td>\n",
              "      <td>42</td>\n",
              "      <td>8</td>\n",
              "      <td>159660.80</td>\n",
              "      <td>3</td>\n",
              "      <td>1</td>\n",
              "      <td>0</td>\n",
              "      <td>113931.57</td>\n",
              "      <td>1</td>\n",
              "    </tr>\n",
              "    <tr>\n",
              "      <th>3</th>\n",
              "      <td>4</td>\n",
              "      <td>15701354</td>\n",
              "      <td>Boni</td>\n",
              "      <td>699</td>\n",
              "      <td>France</td>\n",
              "      <td>Female</td>\n",
              "      <td>39</td>\n",
              "      <td>1</td>\n",
              "      <td>0.00</td>\n",
              "      <td>2</td>\n",
              "      <td>0</td>\n",
              "      <td>0</td>\n",
              "      <td>93826.63</td>\n",
              "      <td>0</td>\n",
              "    </tr>\n",
              "    <tr>\n",
              "      <th>4</th>\n",
              "      <td>5</td>\n",
              "      <td>15737888</td>\n",
              "      <td>Mitchell</td>\n",
              "      <td>850</td>\n",
              "      <td>Spain</td>\n",
              "      <td>Female</td>\n",
              "      <td>43</td>\n",
              "      <td>2</td>\n",
              "      <td>125510.82</td>\n",
              "      <td>1</td>\n",
              "      <td>1</td>\n",
              "      <td>1</td>\n",
              "      <td>79084.10</td>\n",
              "      <td>0</td>\n",
              "    </tr>\n",
              "    <tr>\n",
              "      <th>...</th>\n",
              "      <td>...</td>\n",
              "      <td>...</td>\n",
              "      <td>...</td>\n",
              "      <td>...</td>\n",
              "      <td>...</td>\n",
              "      <td>...</td>\n",
              "      <td>...</td>\n",
              "      <td>...</td>\n",
              "      <td>...</td>\n",
              "      <td>...</td>\n",
              "      <td>...</td>\n",
              "      <td>...</td>\n",
              "      <td>...</td>\n",
              "      <td>...</td>\n",
              "    </tr>\n",
              "    <tr>\n",
              "      <th>9995</th>\n",
              "      <td>9996</td>\n",
              "      <td>15606229</td>\n",
              "      <td>Obijiaku</td>\n",
              "      <td>771</td>\n",
              "      <td>France</td>\n",
              "      <td>Male</td>\n",
              "      <td>39</td>\n",
              "      <td>5</td>\n",
              "      <td>0.00</td>\n",
              "      <td>2</td>\n",
              "      <td>1</td>\n",
              "      <td>0</td>\n",
              "      <td>96270.64</td>\n",
              "      <td>0</td>\n",
              "    </tr>\n",
              "    <tr>\n",
              "      <th>9996</th>\n",
              "      <td>9997</td>\n",
              "      <td>15569892</td>\n",
              "      <td>Johnstone</td>\n",
              "      <td>516</td>\n",
              "      <td>France</td>\n",
              "      <td>Male</td>\n",
              "      <td>35</td>\n",
              "      <td>10</td>\n",
              "      <td>57369.61</td>\n",
              "      <td>1</td>\n",
              "      <td>1</td>\n",
              "      <td>1</td>\n",
              "      <td>101699.77</td>\n",
              "      <td>0</td>\n",
              "    </tr>\n",
              "    <tr>\n",
              "      <th>9997</th>\n",
              "      <td>9998</td>\n",
              "      <td>15584532</td>\n",
              "      <td>Liu</td>\n",
              "      <td>709</td>\n",
              "      <td>France</td>\n",
              "      <td>Female</td>\n",
              "      <td>36</td>\n",
              "      <td>7</td>\n",
              "      <td>0.00</td>\n",
              "      <td>1</td>\n",
              "      <td>0</td>\n",
              "      <td>1</td>\n",
              "      <td>42085.58</td>\n",
              "      <td>1</td>\n",
              "    </tr>\n",
              "    <tr>\n",
              "      <th>9998</th>\n",
              "      <td>9999</td>\n",
              "      <td>15682355</td>\n",
              "      <td>Sabbatini</td>\n",
              "      <td>772</td>\n",
              "      <td>Germany</td>\n",
              "      <td>Male</td>\n",
              "      <td>42</td>\n",
              "      <td>3</td>\n",
              "      <td>75075.31</td>\n",
              "      <td>2</td>\n",
              "      <td>1</td>\n",
              "      <td>0</td>\n",
              "      <td>92888.52</td>\n",
              "      <td>1</td>\n",
              "    </tr>\n",
              "    <tr>\n",
              "      <th>9999</th>\n",
              "      <td>10000</td>\n",
              "      <td>15628319</td>\n",
              "      <td>Walker</td>\n",
              "      <td>792</td>\n",
              "      <td>France</td>\n",
              "      <td>Female</td>\n",
              "      <td>28</td>\n",
              "      <td>4</td>\n",
              "      <td>130142.79</td>\n",
              "      <td>1</td>\n",
              "      <td>1</td>\n",
              "      <td>0</td>\n",
              "      <td>38190.78</td>\n",
              "      <td>0</td>\n",
              "    </tr>\n",
              "  </tbody>\n",
              "</table>\n",
              "<p>10000 rows × 14 columns</p>\n",
              "</div>"
            ],
            "text/plain": [
              "      RowNumber  CustomerId    Surname  ...  IsActiveMember EstimatedSalary Exited\n",
              "0             1    15634602   Hargrave  ...               1       101348.88      1\n",
              "1             2    15647311       Hill  ...               1       112542.58      0\n",
              "2             3    15619304       Onio  ...               0       113931.57      1\n",
              "3             4    15701354       Boni  ...               0        93826.63      0\n",
              "4             5    15737888   Mitchell  ...               1        79084.10      0\n",
              "...         ...         ...        ...  ...             ...             ...    ...\n",
              "9995       9996    15606229   Obijiaku  ...               0        96270.64      0\n",
              "9996       9997    15569892  Johnstone  ...               1       101699.77      0\n",
              "9997       9998    15584532        Liu  ...               1        42085.58      1\n",
              "9998       9999    15682355  Sabbatini  ...               0        92888.52      1\n",
              "9999      10000    15628319     Walker  ...               0        38190.78      0\n",
              "\n",
              "[10000 rows x 14 columns]"
            ]
          },
          "metadata": {
            "tags": []
          },
          "execution_count": 2
        }
      ]
    },
    {
      "cell_type": "code",
      "metadata": {
        "colab": {
          "base_uri": "https://localhost:8080/"
        },
        "id": "7HLR4PIfm8mu",
        "outputId": "a516fdfd-2dfc-4bae-884b-e3b595893c37"
      },
      "source": [
        "dataset.columns"
      ],
      "execution_count": 3,
      "outputs": [
        {
          "output_type": "execute_result",
          "data": {
            "text/plain": [
              "Index(['RowNumber', 'CustomerId', 'Surname', 'CreditScore', 'Geography',\n",
              "       'Gender', 'Age', 'Tenure', 'Balance', 'NumOfProducts', 'HasCrCard',\n",
              "       'IsActiveMember', 'EstimatedSalary', 'Exited'],\n",
              "      dtype='object')"
            ]
          },
          "metadata": {
            "tags": []
          },
          "execution_count": 3
        }
      ]
    },
    {
      "cell_type": "markdown",
      "metadata": {
        "id": "bKddAiCmbpqq"
      },
      "source": [
        "As the *Exited* feature is to be in Y variable so below i am creating a y variable with *Exited* feature in that variable."
      ]
    },
    {
      "cell_type": "code",
      "metadata": {
        "id": "jX_nMB5ym-pd"
      },
      "source": [
        "y = dataset['Exited']"
      ],
      "execution_count": 26,
      "outputs": []
    },
    {
      "cell_type": "markdown",
      "metadata": {
        "id": "WqpN6tGKcVA8"
      },
      "source": [
        "X will contains `['CreditScore', 'Age', 'Tenure', 'Balance', 'NumOfProducts', 'HasCrCard',\r\n",
        "                  'IsActiveMember', 'EstimatedSalary']` features."
      ]
    },
    {
      "cell_type": "code",
      "metadata": {
        "colab": {
          "base_uri": "https://localhost:8080/"
        },
        "id": "ZM5LKWpZoWyQ",
        "outputId": "6e2a6d0b-f019-4184-8307-766c4eac7e28"
      },
      "source": [
        "X = dataset[['CreditScore', 'Age', 'Tenure', 'Balance', 'NumOfProducts', 'HasCrCard',\r\n",
        "                  'IsActiveMember', 'EstimatedSalary']]\r\n",
        "X.shape"
      ],
      "execution_count": 5,
      "outputs": [
        {
          "output_type": "execute_result",
          "data": {
            "text/plain": [
              "(10000, 8)"
            ]
          },
          "metadata": {
            "tags": []
          },
          "execution_count": 5
        }
      ]
    },
    {
      "cell_type": "markdown",
      "metadata": {
        "id": "k69l04yLhDN5"
      },
      "source": [
        "# **One Hot Encoding For Geography Feature**\r\n",
        "Here as you can see in the *Geography* reason you have you have three columns after one hot encoding i.e Germany, Spain, France. So to avoid dummy trap i have used a fn from pandas i.e `get_dummies` in which i have use  `drop_first=True` that will helps us to avoid dummy trap."
      ]
    },
    {
      "cell_type": "code",
      "metadata": {
        "colab": {
          "base_uri": "https://localhost:8080/",
          "height": 399
        },
        "id": "_vIsIsvFnGVj",
        "outputId": "c0d18c74-848e-4f81-c7c5-84610f955688"
      },
      "source": [
        "Geo = pd.get_dummies(dataset['Geography'], drop_first=True)\r\n",
        "Geo"
      ],
      "execution_count": 6,
      "outputs": [
        {
          "output_type": "execute_result",
          "data": {
            "text/html": [
              "<div>\n",
              "<style scoped>\n",
              "    .dataframe tbody tr th:only-of-type {\n",
              "        vertical-align: middle;\n",
              "    }\n",
              "\n",
              "    .dataframe tbody tr th {\n",
              "        vertical-align: top;\n",
              "    }\n",
              "\n",
              "    .dataframe thead th {\n",
              "        text-align: right;\n",
              "    }\n",
              "</style>\n",
              "<table border=\"1\" class=\"dataframe\">\n",
              "  <thead>\n",
              "    <tr style=\"text-align: right;\">\n",
              "      <th></th>\n",
              "      <th>Germany</th>\n",
              "      <th>Spain</th>\n",
              "    </tr>\n",
              "  </thead>\n",
              "  <tbody>\n",
              "    <tr>\n",
              "      <th>0</th>\n",
              "      <td>0</td>\n",
              "      <td>0</td>\n",
              "    </tr>\n",
              "    <tr>\n",
              "      <th>1</th>\n",
              "      <td>0</td>\n",
              "      <td>1</td>\n",
              "    </tr>\n",
              "    <tr>\n",
              "      <th>2</th>\n",
              "      <td>0</td>\n",
              "      <td>0</td>\n",
              "    </tr>\n",
              "    <tr>\n",
              "      <th>3</th>\n",
              "      <td>0</td>\n",
              "      <td>0</td>\n",
              "    </tr>\n",
              "    <tr>\n",
              "      <th>4</th>\n",
              "      <td>0</td>\n",
              "      <td>1</td>\n",
              "    </tr>\n",
              "    <tr>\n",
              "      <th>...</th>\n",
              "      <td>...</td>\n",
              "      <td>...</td>\n",
              "    </tr>\n",
              "    <tr>\n",
              "      <th>9995</th>\n",
              "      <td>0</td>\n",
              "      <td>0</td>\n",
              "    </tr>\n",
              "    <tr>\n",
              "      <th>9996</th>\n",
              "      <td>0</td>\n",
              "      <td>0</td>\n",
              "    </tr>\n",
              "    <tr>\n",
              "      <th>9997</th>\n",
              "      <td>0</td>\n",
              "      <td>0</td>\n",
              "    </tr>\n",
              "    <tr>\n",
              "      <th>9998</th>\n",
              "      <td>1</td>\n",
              "      <td>0</td>\n",
              "    </tr>\n",
              "    <tr>\n",
              "      <th>9999</th>\n",
              "      <td>0</td>\n",
              "      <td>0</td>\n",
              "    </tr>\n",
              "  </tbody>\n",
              "</table>\n",
              "<p>10000 rows × 2 columns</p>\n",
              "</div>"
            ],
            "text/plain": [
              "      Germany  Spain\n",
              "0           0      0\n",
              "1           0      1\n",
              "2           0      0\n",
              "3           0      0\n",
              "4           0      1\n",
              "...       ...    ...\n",
              "9995        0      0\n",
              "9996        0      0\n",
              "9997        0      0\n",
              "9998        1      0\n",
              "9999        0      0\n",
              "\n",
              "[10000 rows x 2 columns]"
            ]
          },
          "metadata": {
            "tags": []
          },
          "execution_count": 6
        }
      ]
    },
    {
      "cell_type": "markdown",
      "metadata": {
        "id": "iKy0zfZshNf-"
      },
      "source": [
        "## **One Hot Encoding For *Gender* Feature**\r\n",
        "Here as you can see in the Geography reason you have you have three columns after `one hot encoding` i.e Germany, Spain, France. So to avoid dummy trap i have used a fn from pandas i.e `get_dummies` in which i have use `drop_first=True` that will helps us to avoid dummy trap."
      ]
    },
    {
      "cell_type": "code",
      "metadata": {
        "colab": {
          "base_uri": "https://localhost:8080/",
          "height": 399
        },
        "id": "ON9UNqn0nYCk",
        "outputId": "abfca29a-1230-4397-b5ca-be1d18595bdd"
      },
      "source": [
        "Gender = pd.get_dummies(dataset['Gender'], drop_first=True)\r\n",
        "Gender"
      ],
      "execution_count": 7,
      "outputs": [
        {
          "output_type": "execute_result",
          "data": {
            "text/html": [
              "<div>\n",
              "<style scoped>\n",
              "    .dataframe tbody tr th:only-of-type {\n",
              "        vertical-align: middle;\n",
              "    }\n",
              "\n",
              "    .dataframe tbody tr th {\n",
              "        vertical-align: top;\n",
              "    }\n",
              "\n",
              "    .dataframe thead th {\n",
              "        text-align: right;\n",
              "    }\n",
              "</style>\n",
              "<table border=\"1\" class=\"dataframe\">\n",
              "  <thead>\n",
              "    <tr style=\"text-align: right;\">\n",
              "      <th></th>\n",
              "      <th>Male</th>\n",
              "    </tr>\n",
              "  </thead>\n",
              "  <tbody>\n",
              "    <tr>\n",
              "      <th>0</th>\n",
              "      <td>0</td>\n",
              "    </tr>\n",
              "    <tr>\n",
              "      <th>1</th>\n",
              "      <td>0</td>\n",
              "    </tr>\n",
              "    <tr>\n",
              "      <th>2</th>\n",
              "      <td>0</td>\n",
              "    </tr>\n",
              "    <tr>\n",
              "      <th>3</th>\n",
              "      <td>0</td>\n",
              "    </tr>\n",
              "    <tr>\n",
              "      <th>4</th>\n",
              "      <td>0</td>\n",
              "    </tr>\n",
              "    <tr>\n",
              "      <th>...</th>\n",
              "      <td>...</td>\n",
              "    </tr>\n",
              "    <tr>\n",
              "      <th>9995</th>\n",
              "      <td>1</td>\n",
              "    </tr>\n",
              "    <tr>\n",
              "      <th>9996</th>\n",
              "      <td>1</td>\n",
              "    </tr>\n",
              "    <tr>\n",
              "      <th>9997</th>\n",
              "      <td>0</td>\n",
              "    </tr>\n",
              "    <tr>\n",
              "      <th>9998</th>\n",
              "      <td>1</td>\n",
              "    </tr>\n",
              "    <tr>\n",
              "      <th>9999</th>\n",
              "      <td>0</td>\n",
              "    </tr>\n",
              "  </tbody>\n",
              "</table>\n",
              "<p>10000 rows × 1 columns</p>\n",
              "</div>"
            ],
            "text/plain": [
              "      Male\n",
              "0        0\n",
              "1        0\n",
              "2        0\n",
              "3        0\n",
              "4        0\n",
              "...    ...\n",
              "9995     1\n",
              "9996     1\n",
              "9997     0\n",
              "9998     1\n",
              "9999     0\n",
              "\n",
              "[10000 rows x 1 columns]"
            ]
          },
          "metadata": {
            "tags": []
          },
          "execution_count": 7
        }
      ]
    },
    {
      "cell_type": "markdown",
      "metadata": {
        "id": "ftfiVK3AhSWs"
      },
      "source": [
        "**Concatinating X, Geo, Gender**"
      ]
    },
    {
      "cell_type": "code",
      "metadata": {
        "colab": {
          "base_uri": "https://localhost:8080/"
        },
        "id": "0ZcUh06MneuH",
        "outputId": "956587e8-3981-40df-e0fb-bedc772b32e0"
      },
      "source": [
        "X = pd.concat([X, Geo, Gender], axis=1)\r\n",
        "X.shape"
      ],
      "execution_count": 8,
      "outputs": [
        {
          "output_type": "execute_result",
          "data": {
            "text/plain": [
              "(10000, 11)"
            ]
          },
          "metadata": {
            "tags": []
          },
          "execution_count": 8
        }
      ]
    },
    {
      "cell_type": "markdown",
      "metadata": {
        "id": "UZ7YYGeRhZVT"
      },
      "source": [
        "**importing *train_test_split***\r\n",
        "\r\n",
        "Before feeding your data into the neural network you need to split that data into `training set` and `testing set`. this can be done using \r\n",
        "\r\n",
        "```\r\n",
        "train_test_split method from sklearn library and from model_selection module\r\n",
        "```\r\n"
      ]
    },
    {
      "cell_type": "markdown",
      "metadata": {
        "id": "bJIoiX_OseLl"
      },
      "source": [
        "\r\n",
        "\r\n",
        "<p align=\"center\">\r\n",
        "  <img src=\"https://github.com/amit17133129/codes/blob/master/train_test_split.gif?raw=true\" alt=\"Sublime's custom image\"/>\r\n",
        "</p>"
      ]
    },
    {
      "cell_type": "code",
      "metadata": {
        "id": "eqO6BORBn5ez"
      },
      "source": [
        "  from sklearn.model_selection import train_test_split\r\n",
        "X_train, X_test, y_train, y_test = train_test_split(X,y, test_size=0.20, random_state=40)"
      ],
      "execution_count": 9,
      "outputs": []
    },
    {
      "cell_type": "code",
      "metadata": {
        "id": "aLqAMG8cqdnL"
      },
      "source": [
        ""
      ],
      "execution_count": 9,
      "outputs": []
    },
    {
      "cell_type": "markdown",
      "metadata": {
        "id": "2QH2XQKZhjii"
      },
      "source": [
        "## importing Sequrntial Model From keras "
      ]
    },
    {
      "cell_type": "code",
      "metadata": {
        "id": "E6y6FfpCozhv"
      },
      "source": [
        "from keras.models import Sequential\r\n",
        "model = Sequential()            # creating Empty model"
      ],
      "execution_count": 10,
      "outputs": []
    },
    {
      "cell_type": "markdown",
      "metadata": {
        "id": "kOKwRzkJh32L"
      },
      "source": [
        "#**Importing Dense Layer**"
      ]
    },
    {
      "cell_type": "code",
      "metadata": {
        "id": "wRLGlsmSo8Ih"
      },
      "source": [
        "from keras.layers import Dense"
      ],
      "execution_count": 11,
      "outputs": []
    },
    {
      "cell_type": "markdown",
      "metadata": {
        "id": "uGLqGnH7h9rP"
      },
      "source": [
        "**Adding First Layer to model with neurons=8, input_feature=11 and activation fn = relu (rectified linear unit)**"
      ]
    },
    {
      "cell_type": "code",
      "metadata": {
        "id": "L9jXryNIo-FU"
      },
      "source": [
        "model.add(Dense(units=8, activation='relu', input_dim=11))"
      ],
      "execution_count": 12,
      "outputs": []
    },
    {
      "cell_type": "markdown",
      "metadata": {
        "id": "pV0gLjeHD9P_"
      },
      "source": [
        "`Relu`  is an activation function i.e its will activate the neurons in the hidden layers. The main functions of `relu` is that all the output from a layers from all the neuron will pass to another layers of the respective neurons."
      ]
    },
    {
      "cell_type": "markdown",
      "metadata": {
        "id": "7CgPHSrPmbLB"
      },
      "source": [
        "<p align=\"center\">\r\n",
        "  <img src=\"https://github.com/amit17133129/codes/blob/master/Relu.gif?raw=true\" alt=\"Sublime's custom image\"/>\r\n",
        "</p>\r\n"
      ]
    },
    {
      "cell_type": "markdown",
      "metadata": {
        "id": "dHOGNKMkiQJX"
      },
      "source": [
        "## Adding Second Layer with neurons=6 and activation fn = relu  \r\n",
        "In this layer i have used `6 neurons` and with the `relu` activation fn.\r\n"
      ]
    },
    {
      "cell_type": "code",
      "metadata": {
        "id": "wMgmzznjpXgi"
      },
      "source": [
        "model.add(Dense(units=6, activation='relu'))"
      ],
      "execution_count": 13,
      "outputs": []
    },
    {
      "cell_type": "markdown",
      "metadata": {
        "id": "lv5AjBVujQDM"
      },
      "source": [
        "# Adding third layer with neurons=6 and activation fn = relu\r\n",
        "In this layer i have used `6 neurons` and with the `relu` activation fn."
      ]
    },
    {
      "cell_type": "code",
      "metadata": {
        "id": "OppmvlA1pwJs"
      },
      "source": [
        "model.add(Dense(units=6, activation='relu'))"
      ],
      "execution_count": 14,
      "outputs": []
    },
    {
      "cell_type": "markdown",
      "metadata": {
        "id": "O6eEHa0tjgDj"
      },
      "source": [
        "# Adding last layer with neurons=1 and activation fn = relu\r\n",
        "In this layer i have used `1 neuron` and with the `sigmoid` activation fn. As you can see in the below image after summation from all the neurons then the output goes to `sigmoid` fn and that fn will gives you a `binary` output (1/0). As it is giving onlu one output then only `one neuron` is required."
      ]
    },
    {
      "cell_type": "markdown",
      "metadata": {
        "id": "QfbYCXm2F6-_"
      },
      "source": [
        "<p align=\"center\">\r\n",
        "  <img src=\"https://eecs.wsu.edu/~cook/dm/lectures/l5/img43.gif\" alt=\"Sublime's custom image\"/>\r\n",
        "</p>\r\n",
        "\r\n",
        "\r\n",
        "\r\n"
      ]
    },
    {
      "cell_type": "code",
      "metadata": {
        "id": "bKgNLvCfp2q4"
      },
      "source": [
        "model.add(Dense(units=1, activation='sigmoid'))"
      ],
      "execution_count": 15,
      "outputs": []
    },
    {
      "cell_type": "code",
      "metadata": {
        "colab": {
          "base_uri": "https://localhost:8080/"
        },
        "id": "i4mQS186qFDU",
        "outputId": "0193f445-f224-4b89-ceeb-4bc0db0d5b5b"
      },
      "source": [
        "model.get_config()"
      ],
      "execution_count": 16,
      "outputs": [
        {
          "output_type": "execute_result",
          "data": {
            "text/plain": [
              "{'layers': [{'class_name': 'InputLayer',\n",
              "   'config': {'batch_input_shape': (None, 11),\n",
              "    'dtype': 'float32',\n",
              "    'name': 'dense_input',\n",
              "    'ragged': False,\n",
              "    'sparse': False}},\n",
              "  {'class_name': 'Dense',\n",
              "   'config': {'activation': 'relu',\n",
              "    'activity_regularizer': None,\n",
              "    'batch_input_shape': (None, 11),\n",
              "    'bias_constraint': None,\n",
              "    'bias_initializer': {'class_name': 'Zeros', 'config': {}},\n",
              "    'bias_regularizer': None,\n",
              "    'dtype': 'float32',\n",
              "    'kernel_constraint': None,\n",
              "    'kernel_initializer': {'class_name': 'GlorotUniform',\n",
              "     'config': {'seed': None}},\n",
              "    'kernel_regularizer': None,\n",
              "    'name': 'dense',\n",
              "    'trainable': True,\n",
              "    'units': 8,\n",
              "    'use_bias': True}},\n",
              "  {'class_name': 'Dense',\n",
              "   'config': {'activation': 'relu',\n",
              "    'activity_regularizer': None,\n",
              "    'bias_constraint': None,\n",
              "    'bias_initializer': {'class_name': 'Zeros', 'config': {}},\n",
              "    'bias_regularizer': None,\n",
              "    'dtype': 'float32',\n",
              "    'kernel_constraint': None,\n",
              "    'kernel_initializer': {'class_name': 'GlorotUniform',\n",
              "     'config': {'seed': None}},\n",
              "    'kernel_regularizer': None,\n",
              "    'name': 'dense_1',\n",
              "    'trainable': True,\n",
              "    'units': 6,\n",
              "    'use_bias': True}},\n",
              "  {'class_name': 'Dense',\n",
              "   'config': {'activation': 'relu',\n",
              "    'activity_regularizer': None,\n",
              "    'bias_constraint': None,\n",
              "    'bias_initializer': {'class_name': 'Zeros', 'config': {}},\n",
              "    'bias_regularizer': None,\n",
              "    'dtype': 'float32',\n",
              "    'kernel_constraint': None,\n",
              "    'kernel_initializer': {'class_name': 'GlorotUniform',\n",
              "     'config': {'seed': None}},\n",
              "    'kernel_regularizer': None,\n",
              "    'name': 'dense_2',\n",
              "    'trainable': True,\n",
              "    'units': 6,\n",
              "    'use_bias': True}},\n",
              "  {'class_name': 'Dense',\n",
              "   'config': {'activation': 'sigmoid',\n",
              "    'activity_regularizer': None,\n",
              "    'bias_constraint': None,\n",
              "    'bias_initializer': {'class_name': 'Zeros', 'config': {}},\n",
              "    'bias_regularizer': None,\n",
              "    'dtype': 'float32',\n",
              "    'kernel_constraint': None,\n",
              "    'kernel_initializer': {'class_name': 'GlorotUniform',\n",
              "     'config': {'seed': None}},\n",
              "    'kernel_regularizer': None,\n",
              "    'name': 'dense_3',\n",
              "    'trainable': True,\n",
              "    'units': 1,\n",
              "    'use_bias': True}}],\n",
              " 'name': 'sequential'}"
            ]
          },
          "metadata": {
            "tags": []
          },
          "execution_count": 16
        }
      ]
    },
    {
      "cell_type": "markdown",
      "metadata": {
        "id": "jD4cJ0DjGuQy"
      },
      "source": [
        "## A  visaul Explaination of the Artificial Neural Network"
      ]
    },
    {
      "cell_type": "markdown",
      "metadata": {
        "id": "hRGZ772_lNEr"
      },
      "source": [
        "![DeeepLearning](https://github.com/amit17133129/codes/blob/master/Deep%20learning.gif?raw=true)"
      ]
    },
    {
      "cell_type": "code",
      "metadata": {
        "colab": {
          "base_uri": "https://localhost:8080/"
        },
        "id": "kuLJppWGqIPg",
        "outputId": "ee9704f2-613f-4c66-8544-19742f6417dd"
      },
      "source": [
        "model.summary()"
      ],
      "execution_count": 17,
      "outputs": [
        {
          "output_type": "stream",
          "text": [
            "Model: \"sequential\"\n",
            "_________________________________________________________________\n",
            "Layer (type)                 Output Shape              Param #   \n",
            "=================================================================\n",
            "dense (Dense)                (None, 8)                 96        \n",
            "_________________________________________________________________\n",
            "dense_1 (Dense)              (None, 6)                 54        \n",
            "_________________________________________________________________\n",
            "dense_2 (Dense)              (None, 6)                 42        \n",
            "_________________________________________________________________\n",
            "dense_3 (Dense)              (None, 1)                 7         \n",
            "=================================================================\n",
            "Total params: 199\n",
            "Trainable params: 199\n",
            "Non-trainable params: 0\n",
            "_________________________________________________________________\n"
          ],
          "name": "stdout"
        }
      ]
    },
    {
      "cell_type": "markdown",
      "metadata": {
        "id": "orzdBCByAxkF"
      },
      "source": [
        "As you can see in below <b> `Optimizers Comaprision` </b> You will find that there are different tyes of optimizers are shown. In which they have different speed to move. This speed denotes the learning from the weights. if your optimizers have less speed then it will learn more things but as you can see in terms of <i> `Ada Delta` </i> the speed is quite high. So its jups and moves out of the graph. where as in case of <i>`Adam`</i> because i have used Adam you will find that speed of learning from the weights is quite slow compare to <i>`Ada Delta`</i>. Also you need to set the ```learning rate``` to move your optimizers very slowly. So, it can learn much more from the respective weights."
      ]
    },
    {
      "cell_type": "markdown",
      "metadata": {
        "id": "-H0fWWdmAmTw"
      },
      "source": [
        "<p align=\"center\">\r\n",
        "  <img src=\"https://mlfromscratch.com/content/images/2019/12/saddle.gif\" alt=\"Sublime's custom image\"/>\r\n",
        "</p>\r\n",
        "\r\n"
      ]
    },
    {
      "cell_type": "code",
      "metadata": {
        "id": "j10mPq9Ha4t7"
      },
      "source": [
        "from keras.optimizers import Adam"
      ],
      "execution_count": 18,
      "outputs": []
    },
    {
      "cell_type": "markdown",
      "metadata": {
        "id": "SsXclF5VCAGS"
      },
      "source": [
        "As i have only one output that whether the Employee is exited from the company or not. i.e  Binary output (Exited/notexited). So the loss will be generating in binary. To handle the binary loss we have `binary_crossentropy`."
      ]
    },
    {
      "cell_type": "code",
      "metadata": {
        "id": "unT3zQ3oaJf1"
      },
      "source": [
        "model.compile(loss='binary_crossentropy', optimizer=Adam(learning_rate=0.000001))"
      ],
      "execution_count": 19,
      "outputs": []
    },
    {
      "cell_type": "markdown",
      "metadata": {
        "id": "fKhtyB_eHQ2k"
      },
      "source": [
        "<center><h1>Below You will find the weights of the model</h1></center>"
      ]
    },
    {
      "cell_type": "code",
      "metadata": {
        "colab": {
          "base_uri": "https://localhost:8080/"
        },
        "id": "FISTDIAJbGd-",
        "outputId": "42c8ddf6-3278-4060-cf67-2e4781ac3e08"
      },
      "source": [
        "model.get_weights()"
      ],
      "execution_count": 20,
      "outputs": [
        {
          "output_type": "execute_result",
          "data": {
            "text/plain": [
              "[array([[-0.02066076, -0.28968173,  0.2522359 , -0.11069694, -0.30354032,\n",
              "         -0.35479504, -0.37940133,  0.12989408],\n",
              "        [ 0.40807408,  0.33400285, -0.29044044,  0.12279463,  0.02866024,\n",
              "          0.16505909, -0.43437654, -0.08052927],\n",
              "        [ 0.08574432,  0.31294584,  0.34127384, -0.5403073 ,  0.22737062,\n",
              "          0.3964677 , -0.4407091 , -0.11779466],\n",
              "        [-0.47511214, -0.51364213, -0.5219625 ,  0.08389795,  0.0482738 ,\n",
              "         -0.21094859, -0.04436564,  0.3212192 ],\n",
              "        [ 0.21555561, -0.07330978,  0.21048409,  0.51580375,  0.3181417 ,\n",
              "         -0.37364948,  0.38994366,  0.35384363],\n",
              "        [ 0.4174667 , -0.47016186, -0.18425742,  0.19694513, -0.42180163,\n",
              "         -0.0538637 ,  0.02123272,  0.3795498 ],\n",
              "        [-0.50346905,  0.22021902, -0.0587213 , -0.39206484, -0.11001834,\n",
              "          0.39269185, -0.01426095, -0.34227383],\n",
              "        [ 0.14976585,  0.4215495 , -0.4487199 , -0.10118306,  0.44541937,\n",
              "         -0.02592146, -0.3683002 , -0.15695423],\n",
              "        [ 0.04658729,  0.3677683 ,  0.50780183, -0.18169224, -0.40672716,\n",
              "         -0.27327177,  0.416915  ,  0.33695632],\n",
              "        [ 0.55054265, -0.0431208 ,  0.08847803, -0.4176634 ,  0.41596174,\n",
              "          0.06407928,  0.22342652,  0.4530285 ],\n",
              "        [-0.1881845 ,  0.55957144,  0.11970764, -0.53179413,  0.19073129,\n",
              "          0.4368927 , -0.16713011, -0.24164882]], dtype=float32),\n",
              " array([0., 0., 0., 0., 0., 0., 0., 0.], dtype=float32),\n",
              " array([[-0.38369834, -0.45466506,  0.08300167,  0.6431782 , -0.137074  ,\n",
              "          0.62779343],\n",
              "        [-0.00921959, -0.05148399, -0.43598944, -0.47586703, -0.3992074 ,\n",
              "         -0.46359885],\n",
              "        [ 0.02408886, -0.4984544 ,  0.06853729, -0.09909028,  0.11974955,\n",
              "          0.47140014],\n",
              "        [-0.418697  , -0.11011851,  0.34275085,  0.45947206, -0.39859602,\n",
              "          0.00415146],\n",
              "        [-0.56797343, -0.41449997,  0.37440336, -0.2053113 , -0.51773435,\n",
              "          0.569739  ],\n",
              "        [ 0.41156614, -0.1457048 , -0.04102856,  0.2835266 ,  0.49666166,\n",
              "         -0.16993055],\n",
              "        [ 0.25853467,  0.01449186,  0.23077959, -0.44923282,  0.1784932 ,\n",
              "         -0.4885732 ],\n",
              "        [-0.18333298, -0.39147   ,  0.06050986, -0.21145234, -0.38709328,\n",
              "          0.0710482 ]], dtype=float32),\n",
              " array([0., 0., 0., 0., 0., 0.], dtype=float32),\n",
              " array([[ 0.31347698,  0.2991895 ,  0.24508625,  0.2747    ,  0.58385545,\n",
              "          0.46211082],\n",
              "        [-0.45942527, -0.28549853, -0.4627154 ,  0.10429323,  0.35801822,\n",
              "         -0.4081499 ],\n",
              "        [-0.5215674 , -0.36142457, -0.2062847 ,  0.39537436,  0.61899203,\n",
              "         -0.57093555],\n",
              "        [-0.14456117,  0.17730016, -0.35279912,  0.23425555,  0.23910499,\n",
              "         -0.484769  ],\n",
              "        [ 0.24732089,  0.07750112,  0.2086935 ,  0.1879257 , -0.53177184,\n",
              "          0.12294507],\n",
              "        [ 0.45292348, -0.3549444 ,  0.19589955, -0.08474702, -0.20897552,\n",
              "         -0.52293193]], dtype=float32),\n",
              " array([0., 0., 0., 0., 0., 0.], dtype=float32),\n",
              " array([[-0.29135615],\n",
              "        [-0.6119803 ],\n",
              "        [ 0.6753768 ],\n",
              "        [-0.05632192],\n",
              "        [ 0.12343192],\n",
              "        [ 0.11105609]], dtype=float32),\n",
              " array([0.], dtype=float32)]"
            ]
          },
          "metadata": {
            "tags": []
          },
          "execution_count": 20
        }
      ]
    },
    {
      "cell_type": "markdown",
      "metadata": {
        "id": "70RoiQBCHhMz"
      },
      "source": [
        "<center><h1>Training Phase</h1></center>"
      ]
    },
    {
      "cell_type": "markdown",
      "metadata": {
        "id": "KuRW3H0pHrNJ"
      },
      "source": [
        "For training the model we need to fit the model and it require training data i.e `X_train`, `y_train`. And the `epochs is 100`. That means your training data will goes 100 times through the neural network which you have build above with the respective layers."
      ]
    },
    {
      "cell_type": "markdown",
      "metadata": {
        "id": "1pFed5M2MT_2"
      },
      "source": [
        "<p align=\"center\">\r\n",
        "  <img src=\"https://github.com/amit17133129/codes/blob/master/feedforward_backpropagation.gif?raw=true\" alt=\"Sublime's custom image\"/>\r\n",
        "</p>\r\n",
        "\r\n"
      ]
    },
    {
      "cell_type": "code",
      "metadata": {
        "colab": {
          "base_uri": "https://localhost:8080/"
        },
        "id": "EOBY-FSFbI0d",
        "outputId": "16513e09-8f02-4c0c-c443-df5c784d2df4"
      },
      "source": [
        "model.fit(X_train, y_train, epochs=100)"
      ],
      "execution_count": 21,
      "outputs": [
        {
          "output_type": "stream",
          "text": [
            "Epoch 1/100\n",
            "250/250 [==============================] - 1s 1ms/step - loss: 334.2865\n",
            "Epoch 2/100\n",
            "250/250 [==============================] - 0s 998us/step - loss: 319.7225\n",
            "Epoch 3/100\n",
            "250/250 [==============================] - 0s 970us/step - loss: 304.7026\n",
            "Epoch 4/100\n",
            "250/250 [==============================] - 0s 967us/step - loss: 308.1894\n",
            "Epoch 5/100\n",
            "250/250 [==============================] - 0s 987us/step - loss: 291.7599\n",
            "Epoch 6/100\n",
            "250/250 [==============================] - 0s 1ms/step - loss: 288.4853\n",
            "Epoch 7/100\n",
            "250/250 [==============================] - 0s 1ms/step - loss: 277.5352\n",
            "Epoch 8/100\n",
            "250/250 [==============================] - 0s 1ms/step - loss: 268.2603\n",
            "Epoch 9/100\n",
            "250/250 [==============================] - 0s 1ms/step - loss: 257.6669\n",
            "Epoch 10/100\n",
            "250/250 [==============================] - 0s 1ms/step - loss: 247.9663\n",
            "Epoch 11/100\n",
            "250/250 [==============================] - 0s 1ms/step - loss: 241.2878\n",
            "Epoch 12/100\n",
            "250/250 [==============================] - 0s 992us/step - loss: 237.7679\n",
            "Epoch 13/100\n",
            "250/250 [==============================] - 0s 1ms/step - loss: 223.5763\n",
            "Epoch 14/100\n",
            "250/250 [==============================] - 0s 918us/step - loss: 212.1348\n",
            "Epoch 15/100\n",
            "250/250 [==============================] - 0s 1ms/step - loss: 208.1311\n",
            "Epoch 16/100\n",
            "250/250 [==============================] - 0s 968us/step - loss: 199.3574\n",
            "Epoch 17/100\n",
            "250/250 [==============================] - 0s 1ms/step - loss: 192.1073\n",
            "Epoch 18/100\n",
            "250/250 [==============================] - 0s 983us/step - loss: 179.5538\n",
            "Epoch 19/100\n",
            "250/250 [==============================] - 0s 1ms/step - loss: 171.8051\n",
            "Epoch 20/100\n",
            "250/250 [==============================] - 0s 1ms/step - loss: 162.6591\n",
            "Epoch 21/100\n",
            "250/250 [==============================] - 0s 1ms/step - loss: 154.4323\n",
            "Epoch 22/100\n",
            "250/250 [==============================] - 0s 1ms/step - loss: 147.5500\n",
            "Epoch 23/100\n",
            "250/250 [==============================] - 0s 975us/step - loss: 133.3187\n",
            "Epoch 24/100\n",
            "250/250 [==============================] - 0s 1ms/step - loss: 130.3280\n",
            "Epoch 25/100\n",
            "250/250 [==============================] - 0s 1ms/step - loss: 123.2245\n",
            "Epoch 26/100\n",
            "250/250 [==============================] - 0s 992us/step - loss: 114.9413\n",
            "Epoch 27/100\n",
            "250/250 [==============================] - 0s 1ms/step - loss: 107.1242\n",
            "Epoch 28/100\n",
            "250/250 [==============================] - 0s 1ms/step - loss: 99.9755\n",
            "Epoch 29/100\n",
            "250/250 [==============================] - 0s 976us/step - loss: 92.6527\n",
            "Epoch 30/100\n",
            "250/250 [==============================] - 0s 969us/step - loss: 84.3580\n",
            "Epoch 31/100\n",
            "250/250 [==============================] - 0s 1ms/step - loss: 76.2165\n",
            "Epoch 32/100\n",
            "250/250 [==============================] - 0s 1ms/step - loss: 72.1133\n",
            "Epoch 33/100\n",
            "250/250 [==============================] - 0s 1ms/step - loss: 64.6858\n",
            "Epoch 34/100\n",
            "250/250 [==============================] - 0s 1ms/step - loss: 59.2061\n",
            "Epoch 35/100\n",
            "250/250 [==============================] - 0s 1ms/step - loss: 52.5562\n",
            "Epoch 36/100\n",
            "250/250 [==============================] - 0s 1ms/step - loss: 48.6635\n",
            "Epoch 37/100\n",
            "250/250 [==============================] - 0s 1ms/step - loss: 42.8801\n",
            "Epoch 38/100\n",
            "250/250 [==============================] - 0s 1ms/step - loss: 38.8058\n",
            "Epoch 39/100\n",
            "250/250 [==============================] - 0s 1ms/step - loss: 36.5574\n",
            "Epoch 40/100\n",
            "250/250 [==============================] - 0s 1ms/step - loss: 33.0244\n",
            "Epoch 41/100\n",
            "250/250 [==============================] - 0s 1ms/step - loss: 31.0097\n",
            "Epoch 42/100\n",
            "250/250 [==============================] - 0s 1ms/step - loss: 32.4793\n",
            "Epoch 43/100\n",
            "250/250 [==============================] - 0s 1ms/step - loss: 31.1288\n",
            "Epoch 44/100\n",
            "250/250 [==============================] - 0s 991us/step - loss: 31.1337\n",
            "Epoch 45/100\n",
            "250/250 [==============================] - 0s 1ms/step - loss: 28.5621\n",
            "Epoch 46/100\n",
            "250/250 [==============================] - 0s 1ms/step - loss: 30.3988\n",
            "Epoch 47/100\n",
            "250/250 [==============================] - 0s 1ms/step - loss: 29.6848\n",
            "Epoch 48/100\n",
            "250/250 [==============================] - 0s 1ms/step - loss: 29.0631\n",
            "Epoch 49/100\n",
            "250/250 [==============================] - 0s 1ms/step - loss: 28.3916\n",
            "Epoch 50/100\n",
            "250/250 [==============================] - 0s 974us/step - loss: 28.3457\n",
            "Epoch 51/100\n",
            "250/250 [==============================] - 0s 1ms/step - loss: 27.1065\n",
            "Epoch 52/100\n",
            "250/250 [==============================] - 0s 1ms/step - loss: 27.6287\n",
            "Epoch 53/100\n",
            "250/250 [==============================] - 0s 1ms/step - loss: 27.1368\n",
            "Epoch 54/100\n",
            "250/250 [==============================] - 0s 1ms/step - loss: 27.1264\n",
            "Epoch 55/100\n",
            "250/250 [==============================] - 0s 984us/step - loss: 25.3197\n",
            "Epoch 56/100\n",
            "250/250 [==============================] - 0s 1ms/step - loss: 23.9523\n",
            "Epoch 57/100\n",
            "250/250 [==============================] - 0s 1ms/step - loss: 23.1542\n",
            "Epoch 58/100\n",
            "250/250 [==============================] - 0s 1ms/step - loss: 25.1388\n",
            "Epoch 59/100\n",
            "250/250 [==============================] - 0s 1ms/step - loss: 23.1877\n",
            "Epoch 60/100\n",
            "250/250 [==============================] - 0s 1ms/step - loss: 23.0455\n",
            "Epoch 61/100\n",
            "250/250 [==============================] - 0s 1ms/step - loss: 23.2897\n",
            "Epoch 62/100\n",
            "250/250 [==============================] - 0s 1ms/step - loss: 22.6371\n",
            "Epoch 63/100\n",
            "250/250 [==============================] - 0s 1ms/step - loss: 21.1919\n",
            "Epoch 64/100\n",
            "250/250 [==============================] - 0s 1ms/step - loss: 21.4505\n",
            "Epoch 65/100\n",
            "250/250 [==============================] - 0s 1ms/step - loss: 21.0066\n",
            "Epoch 66/100\n",
            "250/250 [==============================] - 0s 1ms/step - loss: 20.0127\n",
            "Epoch 67/100\n",
            "250/250 [==============================] - 0s 1ms/step - loss: 19.9482\n",
            "Epoch 68/100\n",
            "250/250 [==============================] - 0s 1ms/step - loss: 19.8167\n",
            "Epoch 69/100\n",
            "250/250 [==============================] - 0s 997us/step - loss: 19.7622\n",
            "Epoch 70/100\n",
            "250/250 [==============================] - 0s 1ms/step - loss: 19.0200\n",
            "Epoch 71/100\n",
            "250/250 [==============================] - 0s 1ms/step - loss: 18.6084\n",
            "Epoch 72/100\n",
            "250/250 [==============================] - 0s 1ms/step - loss: 17.1282\n",
            "Epoch 73/100\n",
            "250/250 [==============================] - 0s 1ms/step - loss: 18.0116\n",
            "Epoch 74/100\n",
            "250/250 [==============================] - 0s 1ms/step - loss: 17.9715\n",
            "Epoch 75/100\n",
            "250/250 [==============================] - 0s 1ms/step - loss: 17.0897\n",
            "Epoch 76/100\n",
            "250/250 [==============================] - 0s 1ms/step - loss: 16.8372\n",
            "Epoch 77/100\n",
            "250/250 [==============================] - 0s 1ms/step - loss: 16.8302\n",
            "Epoch 78/100\n",
            "250/250 [==============================] - 0s 1ms/step - loss: 16.5838\n",
            "Epoch 79/100\n",
            "250/250 [==============================] - 0s 1ms/step - loss: 16.4868\n",
            "Epoch 80/100\n",
            "250/250 [==============================] - 0s 1ms/step - loss: 15.5716\n",
            "Epoch 81/100\n",
            "250/250 [==============================] - 0s 1ms/step - loss: 14.5191\n",
            "Epoch 82/100\n",
            "250/250 [==============================] - 0s 1ms/step - loss: 14.1772\n",
            "Epoch 83/100\n",
            "250/250 [==============================] - 0s 1ms/step - loss: 14.3615\n",
            "Epoch 84/100\n",
            "250/250 [==============================] - 0s 1ms/step - loss: 13.8075\n",
            "Epoch 85/100\n",
            "250/250 [==============================] - 0s 1ms/step - loss: 13.5754\n",
            "Epoch 86/100\n",
            "250/250 [==============================] - 0s 1ms/step - loss: 13.4503\n",
            "Epoch 87/100\n",
            "250/250 [==============================] - 0s 1ms/step - loss: 13.3970\n",
            "Epoch 88/100\n",
            "250/250 [==============================] - 0s 1ms/step - loss: 12.4848\n",
            "Epoch 89/100\n",
            "250/250 [==============================] - 0s 1ms/step - loss: 12.5361\n",
            "Epoch 90/100\n",
            "250/250 [==============================] - 0s 1ms/step - loss: 11.9010\n",
            "Epoch 91/100\n",
            "250/250 [==============================] - 0s 1ms/step - loss: 12.0105\n",
            "Epoch 92/100\n",
            "250/250 [==============================] - 0s 1ms/step - loss: 11.4991\n",
            "Epoch 93/100\n",
            "250/250 [==============================] - 0s 989us/step - loss: 10.9268\n",
            "Epoch 94/100\n",
            "250/250 [==============================] - 0s 1ms/step - loss: 10.6491\n",
            "Epoch 95/100\n",
            "250/250 [==============================] - 0s 1ms/step - loss: 10.7060\n",
            "Epoch 96/100\n",
            "250/250 [==============================] - 0s 1ms/step - loss: 10.2463\n",
            "Epoch 97/100\n",
            "250/250 [==============================] - 0s 979us/step - loss: 10.1727\n",
            "Epoch 98/100\n",
            "250/250 [==============================] - 0s 1ms/step - loss: 10.1703\n",
            "Epoch 99/100\n",
            "250/250 [==============================] - 0s 1ms/step - loss: 9.7232\n",
            "Epoch 100/100\n",
            "250/250 [==============================] - 0s 1ms/step - loss: 9.7264\n"
          ],
          "name": "stdout"
        },
        {
          "output_type": "execute_result",
          "data": {
            "text/plain": [
              "<tensorflow.python.keras.callbacks.History at 0x7f03367dfe50>"
            ]
          },
          "metadata": {
            "tags": []
          },
          "execution_count": 21
        }
      ]
    },
    {
      "cell_type": "code",
      "metadata": {
        "id": "y3S02wLRbY3h",
        "colab": {
          "base_uri": "https://localhost:8080/",
          "height": 399
        },
        "outputId": "ad248f47-f8f1-44fa-8b44-4e83919e4fa3"
      },
      "source": [
        "loss = pd.DataFrame(model.history.history)\r\n",
        "loss"
      ],
      "execution_count": 22,
      "outputs": [
        {
          "output_type": "execute_result",
          "data": {
            "text/html": [
              "<div>\n",
              "<style scoped>\n",
              "    .dataframe tbody tr th:only-of-type {\n",
              "        vertical-align: middle;\n",
              "    }\n",
              "\n",
              "    .dataframe tbody tr th {\n",
              "        vertical-align: top;\n",
              "    }\n",
              "\n",
              "    .dataframe thead th {\n",
              "        text-align: right;\n",
              "    }\n",
              "</style>\n",
              "<table border=\"1\" class=\"dataframe\">\n",
              "  <thead>\n",
              "    <tr style=\"text-align: right;\">\n",
              "      <th></th>\n",
              "      <th>loss</th>\n",
              "    </tr>\n",
              "  </thead>\n",
              "  <tbody>\n",
              "    <tr>\n",
              "      <th>0</th>\n",
              "      <td>327.813019</td>\n",
              "    </tr>\n",
              "    <tr>\n",
              "      <th>1</th>\n",
              "      <td>318.202637</td>\n",
              "    </tr>\n",
              "    <tr>\n",
              "      <th>2</th>\n",
              "      <td>309.605621</td>\n",
              "    </tr>\n",
              "    <tr>\n",
              "      <th>3</th>\n",
              "      <td>300.935791</td>\n",
              "    </tr>\n",
              "    <tr>\n",
              "      <th>4</th>\n",
              "      <td>292.179413</td>\n",
              "    </tr>\n",
              "    <tr>\n",
              "      <th>...</th>\n",
              "      <td>...</td>\n",
              "    </tr>\n",
              "    <tr>\n",
              "      <th>95</th>\n",
              "      <td>10.398937</td>\n",
              "    </tr>\n",
              "    <tr>\n",
              "      <th>96</th>\n",
              "      <td>10.145731</td>\n",
              "    </tr>\n",
              "    <tr>\n",
              "      <th>97</th>\n",
              "      <td>9.901025</td>\n",
              "    </tr>\n",
              "    <tr>\n",
              "      <th>98</th>\n",
              "      <td>9.662745</td>\n",
              "    </tr>\n",
              "    <tr>\n",
              "      <th>99</th>\n",
              "      <td>9.430536</td>\n",
              "    </tr>\n",
              "  </tbody>\n",
              "</table>\n",
              "<p>100 rows × 1 columns</p>\n",
              "</div>"
            ],
            "text/plain": [
              "          loss\n",
              "0   327.813019\n",
              "1   318.202637\n",
              "2   309.605621\n",
              "3   300.935791\n",
              "4   292.179413\n",
              "..         ...\n",
              "95   10.398937\n",
              "96   10.145731\n",
              "97    9.901025\n",
              "98    9.662745\n",
              "99    9.430536\n",
              "\n",
              "[100 rows x 1 columns]"
            ]
          },
          "metadata": {
            "tags": []
          },
          "execution_count": 22
        }
      ]
    },
    {
      "cell_type": "markdown",
      "metadata": {
        "id": "yKdLujgZMjlq"
      },
      "source": [
        "## Plotting Loss Graph\r\n",
        "As you can see the graph of the loss is slowly decreasing. So this can be possible because of `Adam` Optimizers"
      ]
    },
    {
      "cell_type": "code",
      "metadata": {
        "colab": {
          "base_uri": "https://localhost:8080/",
          "height": 283
        },
        "id": "GjvPQUXlbgio",
        "outputId": "97f38c27-cea4-48f6-e876-2172c4adb5a1"
      },
      "source": [
        "loss.plot()"
      ],
      "execution_count": 23,
      "outputs": [
        {
          "output_type": "execute_result",
          "data": {
            "text/plain": [
              "<matplotlib.axes._subplots.AxesSubplot at 0x7f0334101390>"
            ]
          },
          "metadata": {
            "tags": []
          },
          "execution_count": 23
        },
        {
          "output_type": "display_data",
          "data": {
            "image/png": "[encoded data removed]",
            "text/plain": [
              "<Figure size 432x288 with 1 Axes>"
            ]
          },
          "metadata": {
            "tags": [],
            "needs_background": "light"
          }
        }
      ]
    },
    {
      "cell_type": "markdown",
      "metadata": {
        "id": "_3EY9JiFOg3K"
      },
      "source": [
        "## Prediction\r\n",
        "To predict i am just giving random iputs but you can use the right values and it will predict on that case.\r\n"
      ]
    },
    {
      "cell_type": "code",
      "metadata": {
        "id": "El7CxQkmbtzl",
        "colab": {
          "base_uri": "https://localhost:8080/"
        },
        "outputId": "b1ee4fb3-dfca-4bc8-864b-b2baab03d882"
      },
      "source": [
        "print(\"The employee will  :\", model.predict([[1,2,3,4,5,6,7,8,9,10,11]])[0][0])"
      ],
      "execution_count": 33,
      "outputs": [
        {
          "output_type": "stream",
          "text": [
            "The employee will  : 0.4933369\n"
          ],
          "name": "stdout"
        }
      ]
    },
    {
      "cell_type": "code",
      "metadata": {
        "id": "Bu9hIlbXNSmc"
      },
      "source": [
        ""
      ],
      "execution_count": null,
      "outputs": []
    }
  ]
}